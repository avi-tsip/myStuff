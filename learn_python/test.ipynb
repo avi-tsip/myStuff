{
 "cells": [
  {
   "cell_type": "code",
   "execution_count": 8,
   "metadata": {},
   "outputs": [
    {
     "data": {
      "text/plain": [
       "'byebye'"
      ]
     },
     "execution_count": 8,
     "metadata": {},
     "output_type": "execute_result"
    }
   ],
   "source": [
    "string  = \"      byebye   \"\n",
    "string.strip()"
   ]
  },
  {
   "cell_type": "code",
   "execution_count": 28,
   "metadata": {},
   "outputs": [
    {
     "name": "stdout",
     "output_type": "stream",
     "text": [
      "f1\n"
     ]
    }
   ],
   "source": [
    "import inspect\n",
    "import pytz\n",
    "\n",
    "def f1():\n",
    "    f2()\n",
    "\n",
    "def f2():\n",
    "    curframe = inspect.currentframe()\n",
    "    calframe = inspect.getouterframes(curframe, 2)[1][3]\n",
    "    print(calframe) \n",
    "\n",
    "f1()"
   ]
  },
  {
   "cell_type": "code",
   "execution_count": 29,
   "metadata": {},
   "outputs": [
    {
     "name": "stdout",
     "output_type": "stream",
     "text": [
      "20240725160735\n",
      "None\n",
      "20240725140736\n"
     ]
    }
   ],
   "source": [
    "from datetime import datetime, timedelta\n",
    "print(datetime.now().strftime(\"%Y%m%d%H%m%S\"))\n",
    "print(datetime.now().utcoffset())\n",
    "tz_offset = pytz.timezone('Europe/London') \n",
    "print(datetime.now(tz_offset).strftime(\"%Y%m%d%H%m%S\"))"
   ]
  }
 ],
 "metadata": {
  "kernelspec": {
   "display_name": "Python 3",
   "language": "python",
   "name": "python3"
  },
  "language_info": {
   "codemirror_mode": {
    "name": "ipython",
    "version": 3
   },
   "file_extension": ".py",
   "mimetype": "text/x-python",
   "name": "python",
   "nbconvert_exporter": "python",
   "pygments_lexer": "ipython3",
   "version": "3.8.10"
  }
 },
 "nbformat": 4,
 "nbformat_minor": 2
}
